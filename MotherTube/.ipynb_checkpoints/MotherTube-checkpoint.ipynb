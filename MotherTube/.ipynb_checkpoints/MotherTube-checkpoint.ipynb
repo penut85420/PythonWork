{
 "cells": [
  {
   "cell_type": "code",
   "execution_count": 3,
   "metadata": {
    "scrolled": false
   },
   "outputs": [
    {
     "name": "stdout",
     "output_type": "stream",
     "text": [
      "download https://www.youtube.com/watch?v=B9INlhs-bN4"
     ]
    },
    {
     "ename": "AttributeError",
     "evalue": "'NoneType' object has no attribute 'download'",
     "output_type": "error",
     "traceback": [
      "\u001b[1;31m---------------------------------------------------------------------------\u001b[0m",
      "\u001b[1;31mAttributeError\u001b[0m                            Traceback (most recent call last)",
      "\u001b[1;32m<ipython-input-3-b6e90afa54a2>\u001b[0m in \u001b[0;36m<module>\u001b[1;34m()\u001b[0m\n\u001b[0;32m     18\u001b[0m         \u001b[1;32mtry\u001b[0m\u001b[1;33m:\u001b[0m\u001b[1;33m\u001b[0m\u001b[0m\n\u001b[0;32m     19\u001b[0m             \u001b[0myt\u001b[0m \u001b[1;33m=\u001b[0m \u001b[0mYouTube\u001b[0m\u001b[1;33m(\u001b[0m\u001b[1;34m\"https://www.youtube.com%s\"\u001b[0m \u001b[1;33m%\u001b[0m \u001b[0mlink\u001b[0m\u001b[1;33m)\u001b[0m\u001b[1;33m\u001b[0m\u001b[0m\n\u001b[1;32m---> 20\u001b[1;33m             \u001b[0myt\u001b[0m\u001b[1;33m.\u001b[0m\u001b[0mstreams\u001b[0m\u001b[1;33m.\u001b[0m\u001b[0mfilter\u001b[0m\u001b[1;33m(\u001b[0m\u001b[0monly_audio\u001b[0m\u001b[1;33m=\u001b[0m\u001b[1;32mTrue\u001b[0m\u001b[1;33m,\u001b[0m \u001b[0msubtype\u001b[0m\u001b[1;33m=\u001b[0m\u001b[1;34m\"mp4\"\u001b[0m\u001b[1;33m)\u001b[0m\u001b[1;33m.\u001b[0m\u001b[0mfirst\u001b[0m\u001b[1;33m(\u001b[0m\u001b[1;33m)\u001b[0m\u001b[1;33m.\u001b[0m\u001b[0mdownload\u001b[0m\u001b[1;33m(\u001b[0m\u001b[1;34m\"audio\\\\\"\u001b[0m\u001b[1;33m)\u001b[0m\u001b[1;33m\u001b[0m\u001b[0m\n\u001b[0m\u001b[0;32m     21\u001b[0m             \u001b[0mdlist\u001b[0m\u001b[1;33m.\u001b[0m\u001b[0mappend\u001b[0m\u001b[1;33m(\u001b[0m\u001b[0mlink\u001b[0m\u001b[1;33m)\u001b[0m\u001b[1;33m\u001b[0m\u001b[0m\n\u001b[0;32m     22\u001b[0m             \u001b[0mpk\u001b[0m\u001b[1;33m.\u001b[0m\u001b[0mdump\u001b[0m\u001b[1;33m(\u001b[0m\u001b[0mdlist\u001b[0m\u001b[1;33m,\u001b[0m \u001b[0mopen\u001b[0m\u001b[1;33m(\u001b[0m\u001b[1;34m\"dlist.pkl\"\u001b[0m\u001b[1;33m,\u001b[0m \u001b[1;34m'wb'\u001b[0m\u001b[1;33m)\u001b[0m\u001b[1;33m)\u001b[0m\u001b[1;33m\u001b[0m\u001b[0m\n",
      "\u001b[1;31mAttributeError\u001b[0m: 'NoneType' object has no attribute 'download'"
     ]
    }
   ],
   "source": [
    "from pytube import Playlist, YouTube\n",
    "import pytube\n",
    "import pickle as pk\n",
    "\n",
    "mother_playlist = Playlist(\"https://www.youtube.com/playlist?list=LLG5oSI03yyAlKazKyyePiMQ\")\n",
    "\n",
    "dlist = []\n",
    "\n",
    "try: dlist = pk.load(open(\"dlist.pkl\", 'rb'))\n",
    "except FileNotFoundError: pass\n",
    "\n",
    "dlist.append(\"/watch?v=vOMQsZ47zTk\")\n",
    "dlist.append(\"/watch?v=Vdjkzij7pdI\")\n",
    "\n",
    "for link in mother_playlist.parse_links():\n",
    "    if link not in dlist:\n",
    "        print(\"download https://www.youtube.com%s\" % link, end='')\n",
    "        try:\n",
    "            yt = YouTube(\"https://www.youtube.com%s\" % link)\n",
    "            yt.streams.filter(only_audio=True, subtype=\"mp4\").first().download(\"audio\\\\\")\n",
    "            dlist.append(link)\n",
    "            pk.dump(dlist, open(\"dlist.pkl\", 'wb'))\n",
    "            print(\" done\")\n",
    "        except pytube.exceptions.RegexMatchError as e:\n",
    "            print(' err\\n' + str(e))\n",
    "        except AttributeError as e:\n",
    "            print(' err\\n' + str(e))\n",
    "\n",
    "pk.dump(dlist, open(\"dlist.pkl\", 'wb'))\n",
    "print(\"All done\")"
   ]
  },
  {
   "cell_type": "code",
   "execution_count": null,
   "metadata": {},
   "outputs": [],
   "source": [
    "import numpy\n",
    "zero_vec = numpy.zeros(128)\n",
    "zero_vec\n"
   ]
  }
 ],
 "metadata": {
  "kernelspec": {
   "display_name": "Python 3",
   "language": "python",
   "name": "python3"
  }
 },
 "nbformat": 4,
 "nbformat_minor": 2
}
