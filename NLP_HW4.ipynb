{
 "cells": [
  {
   "cell_type": "code",
   "execution_count": 1,
   "metadata": {},
   "outputs": [],
   "source": [
    "import nltk"
   ]
  },
  {
   "cell_type": "code",
   "execution_count": 2,
   "metadata": {},
   "outputs": [
    {
     "name": "stdout",
     "output_type": "stream",
     "text": [
      "[nltk_data] Downloading package wordnet to\n",
      "[nltk_data]     C:\\Users\\Tony\\AppData\\Roaming\\nltk_data...\n",
      "[nltk_data]   Package wordnet is already up-to-date!\n"
     ]
    },
    {
     "data": {
      "text/plain": [
       "True"
      ]
     },
     "execution_count": 2,
     "metadata": {},
     "output_type": "execute_result"
    }
   ],
   "source": [
    "from nltk.corpus import wordnet\n",
    "nltk.download('wordnet')"
   ]
  },
  {
   "cell_type": "code",
   "execution_count": 3,
   "metadata": {},
   "outputs": [],
   "source": [
    "word_list1 = [\"boot\", \"raincoat\", \"shoe\", \"shirt\"]\n",
    "word_list2 = [\"clothing\", \"suit\", \"pin\", \"hair\"]"
   ]
  },
  {
   "cell_type": "code",
   "execution_count": 4,
   "metadata": {
    "scrolled": false
   },
   "outputs": [
    {
     "name": "stdout",
     "output_type": "stream",
     "text": [
      "-----------------------------------------------------------------------\n",
      "組合 1 : boot vs. clothing\n",
      "boot 的語意 1:\n",
      "footwear that covers the whole foot and lower leg, \n",
      "\n",
      "clothing 的語意 1:\n",
      "a covering designed to be worn on a person's body, \n",
      "\n",
      "相似度0.800000\n",
      "共同祖先 : [Synset('covering.n.02')] \n",
      "\n",
      "\n",
      "-----------------------------------------------------------------------\n",
      "組合 2 : raincoat vs. suit\n",
      "raincoat 的語意 1:\n",
      "a water-resistant coat, \n",
      "\n",
      "suit 的語意 1:\n",
      "a set of garments (usually including a jacket and trousers or skirt) for outerwear all of the same fabric and color, \n",
      "\n",
      "相似度0.818182\n",
      "共同祖先 : [Synset('garment.n.01')] \n",
      "\n",
      "\n",
      "-----------------------------------------------------------------------\n",
      "組合 3 : shoe vs. pin\n",
      "shoe 的語意 4:\n",
      "a restraint provided when the brake linings are moved hydraulically against the brake drum to retard the wheel's rotation, \n",
      "\n",
      "pin 的語意 9:\n",
      "a small slender (often pointed) piece of wood or metal used to support or fasten or attach things, \n",
      "\n",
      "相似度0.842105\n",
      "共同祖先 : [Synset('restraint.n.06')] \n",
      "\n",
      "\n",
      "-----------------------------------------------------------------------\n",
      "組合 4 : shirt vs. hair\n",
      "shirt 的語意 1:\n",
      "a garment worn on the upper half of the body, \n",
      "\n",
      "hair 的語意 5:\n",
      "cloth woven from horsehair or camelhair; used for upholstery or stiffening in garments, \n",
      "\n",
      "相似度0.625000\n",
      "共同祖先 : [Synset('artifact.n.01')] \n",
      "\n",
      "\n"
     ]
    }
   ],
   "source": [
    "for k in range(0, 4):\n",
    "    print(\"-----------------------------------------------------------------------\")\n",
    "    print(\"組合\", k+1, \":\", word_list1[k], \"vs.\", word_list2[k])\n",
    "    len1 = len(wordnet.synsets(word_list1[k],'n'))\n",
    "    len2 = len(wordnet.synsets(word_list2[k],'n'))\n",
    "    \n",
    "    str1 = word_list1[k] + \".n.\"\n",
    "    str2 = word_list2[k] + \".n.\"\n",
    "    \n",
    "    i_max = 0\n",
    "    j_max = 0\n",
    "    similarity_max = 0\n",
    "    for i in range(1, len1+1):\n",
    "        for j in range(1, len2+1):\n",
    "            d = wordnet.synset(str1 + str(i))\n",
    "            g = wordnet.synset(str2 + str(j))\n",
    "            if(d.wup_similarity(g) > similarity_max):\n",
    "                i_max = i\n",
    "                j_max = j\n",
    "                similarity_max = d.wup_similarity(g)\n",
    "    \n",
    "    \n",
    "    print(\"%s 的語意 %d:\\n%s, \\n\\n%s 的語意 %d:\\n%s, \\n\\n相似度%6f\" %(word_list1[k], i_max, wordnet.synset(str1 + str(i_max)).definition(), word_list2[k], j_max, wordnet.synset(str2 + str(j_max)).definition(), similarity_max))\n",
    "    print(\"共同祖先 :\", wordnet.synset(str1 + str(i_max)).lowest_common_hypernyms(wordnet.synset(str2 + str(j_max))), \"\\n\\n\")"
   ]
  }
 ],
 "metadata": {
  "kernelspec": {
   "display_name": "Python 3",
   "language": "python",
   "name": "python3"
  },
  "language_info": {
   "codemirror_mode": {
    "name": "ipython",
    "version": 3
   },
   "file_extension": ".py",
   "mimetype": "text/x-python",
   "name": "python",
   "nbconvert_exporter": "python",
   "pygments_lexer": "ipython3",
   "version": "3.6.5"
  }
 },
 "nbformat": 4,
 "nbformat_minor": 2
}
