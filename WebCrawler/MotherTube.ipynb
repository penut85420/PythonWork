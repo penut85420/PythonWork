{
 "cells": [
  {
   "cell_type": "code",
   "execution_count": 4,
   "metadata": {
    "scrolled": false
   },
   "outputs": [
    {
     "name": "stdout",
     "output_type": "stream",
     "text": [
      "download https://www.youtube.com/watch?v=B9INlhs-bN4 done\n",
      "download https://www.youtube.com/watch?v=YCMn6rcVxgg err\n",
      "'NoneType' object has no attribute 'download'\n",
      "download https://www.youtube.com/watch?v=8a7ZORKcVXs done\n",
      "download https://www.youtube.com/watch?v=RhnM_3L4uic err\n",
      "regex pattern (\"signature\",\\s?([a-zA-Z0-9$]+)\\() had zero matches\n",
      "download https://www.youtube.com/watch?v=kDT1Pebu8D0 err\n",
      "regex pattern (\"signature\",\\s?([a-zA-Z0-9$]+)\\() had zero matches\n",
      "download https://www.youtube.com/watch?v=vgHMhya50Bw err\n",
      "regex pattern (\"signature\",\\s?([a-zA-Z0-9$]+)\\() had zero matches\n",
      "download https://www.youtube.com/watch?v=XD79rrMNJtU err\n",
      "regex pattern (\"signature\",\\s?([a-zA-Z0-9$]+)\\() had zero matches\n",
      "download https://www.youtube.com/watch?v=mCUJldHf__s err\n",
      "regex pattern (\"signature\",\\s?([a-zA-Z0-9$]+)\\() had zero matches\n",
      "download https://www.youtube.com/watch?v=mPnstCE0NQg err\n",
      "regex pattern (\"signature\",\\s?([a-zA-Z0-9$]+)\\() had zero matches\n",
      "download https://www.youtube.com/watch?v=JkZbTyJIfw8 err\n",
      "regex pattern (\"signature\",\\s?([a-zA-Z0-9$]+)\\() had zero matches\n",
      "download https://www.youtube.com/watch?v=zD8GpdPzJB0 err\n",
      "regex pattern (\"signature\",\\s?([a-zA-Z0-9$]+)\\() had zero matches\n",
      "download https://www.youtube.com/watch?v=zUKAtI3UfGc err\n",
      "regex pattern (\"signature\",\\s?([a-zA-Z0-9$]+)\\() had zero matches\n",
      "download https://www.youtube.com/watch?v=FqY3NPTSXwk err\n",
      "regex pattern (\"signature\",\\s?([a-zA-Z0-9$]+)\\() had zero matches\n",
      "download https://www.youtube.com/watch?v=p7AVLu2OwGI err\n",
      "regex pattern (\"signature\",\\s?([a-zA-Z0-9$]+)\\() had zero matches\n",
      "download https://www.youtube.com/watch?v=0fJuNVwUZ2A err\n",
      "regex pattern (\"signature\",\\s?([a-zA-Z0-9$]+)\\() had zero matches\n",
      "download https://www.youtube.com/watch?v=KVLPj5MVwlg err\n",
      "regex pattern (\"signature\",\\s?([a-zA-Z0-9$]+)\\() had zero matches\n",
      "download https://www.youtube.com/watch?v=J7Ie-mk01qI err\n",
      "regex pattern (\"signature\",\\s?([a-zA-Z0-9$]+)\\() had zero matches\n",
      "All done\n"
     ]
    }
   ],
   "source": [
    "from pytube import Playlist, YouTube\n",
    "import pytube\n",
    "import pickle as pk\n",
    "\n",
    "mother_playlist = Playlist(\"https://www.youtube.com/playlist?list=LLG5oSI03yyAlKazKyyePiMQ\")\n",
    "\n",
    "dlist = []\n",
    "\n",
    "try: dlist = pk.load(open(\"dlist.pkl\", 'rb'))\n",
    "except FileNotFoundError: pass\n",
    "\n",
    "dlist.append(\"/watch?v=vOMQsZ47zTk\")\n",
    "dlist.append(\"/watch?v=Vdjkzij7pdI\")\n",
    "\n",
    "for link in mother_playlist.parse_links():\n",
    "    if link not in dlist:\n",
    "        print(\"download https://www.youtube.com%s\" % link, end='')\n",
    "        try:\n",
    "            yt = YouTube(\"https://www.youtube.com%s\" % link)\n",
    "            yt.streams.filter(only_audio=True, subtype=\"mp4\").first().download(\"audio\\\\\")\n",
    "            dlist.append(link)\n",
    "            pk.dump(dlist, open(\"dlist.pkl\", 'wb'))\n",
    "            print(\" done\")\n",
    "        except pytube.exceptions.RegexMatchError as e:\n",
    "            print(' err\\n' + str(e))\n",
    "        except AttributeError as e:\n",
    "            print(' err\\n' + str(e))\n",
    "\n",
    "pk.dump(dlist, open(\"dlist.pkl\", 'wb'))\n",
    "print(\"All done\")"
   ]
  },
  {
   "cell_type": "code",
   "execution_count": null,
   "metadata": {},
   "outputs": [],
   "source": [
    "import numpy\n",
    "zero_vec = numpy.zeros(128)\n",
    "zero_vec\n"
   ]
  }
 ],
 "metadata": {
  "kernelspec": {
   "display_name": "Python 3",
   "language": "python",
   "name": "python3"
  }
 },
 "nbformat": 4,
 "nbformat_minor": 2
}
