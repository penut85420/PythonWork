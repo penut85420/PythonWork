{
 "cells": [
  {
   "cell_type": "code",
   "execution_count": 7,
   "metadata": {},
   "outputs": [
    {
     "name": "stdout",
     "output_type": "stream",
     "text": [
      "[D:\\Documents\\PythonWork\\WebCrawler\\audio\\inn/*.mp4] --> [D:\\Documents\\PythonWork\\WebCrawler\\audio\\out/*.mp3]\n",
      "-- converting D:\\Documents\\PythonWork\\WebCrawler\\audio\\inn/《百家讲坛》  黄帝内经（第三部） 20 去火那些事儿 20180619  CCTV百家讲坛官方频道.mp4 to D:\\Documents\\PythonWork\\WebCrawler\\audio\\out/《百家讲坛》  黄帝内经（第三部） 20 去火那些事儿 20180619  CCTV百家讲坛官方频道.mp3 --\n"
     ]
    },
    {
     "ename": "FileNotFoundError",
     "evalue": "[WinError 2] 系統找不到指定的檔案。",
     "output_type": "error",
     "traceback": [
      "\u001b[1;31m---------------------------------------------------------------------------\u001b[0m",
      "\u001b[1;31mFileNotFoundError\u001b[0m                         Traceback (most recent call last)",
      "\u001b[1;32m<ipython-input-7-730015fcee54>\u001b[0m in \u001b[0;36m<module>\u001b[1;34m()\u001b[0m\n\u001b[0;32m     69\u001b[0m \u001b[0margs\u001b[0m\u001b[1;33m[\u001b[0m\u001b[1;36m0\u001b[0m\u001b[1;33m]\u001b[0m \u001b[1;33m=\u001b[0m \u001b[1;34m\"D:\\\\Documents\\\\PythonWork\\\\WebCrawler\\\\audio\\\\inn\"\u001b[0m\u001b[1;33m\u001b[0m\u001b[0m\n\u001b[0;32m     70\u001b[0m \u001b[0margs\u001b[0m\u001b[1;33m[\u001b[0m\u001b[1;36m1\u001b[0m\u001b[1;33m]\u001b[0m \u001b[1;33m=\u001b[0m \u001b[1;34m\"D:\\\\Documents\\\\PythonWork\\\\WebCrawler\\\\audio\\\\out\"\u001b[0m\u001b[1;33m\u001b[0m\u001b[0m\n\u001b[1;32m---> 71\u001b[1;33m \u001b[0mmain\u001b[0m\u001b[1;33m(\u001b[0m\u001b[0margs\u001b[0m\u001b[1;33m[\u001b[0m\u001b[1;36m0\u001b[0m\u001b[1;33m]\u001b[0m\u001b[1;33m,\u001b[0m \u001b[0margs\u001b[0m\u001b[1;33m[\u001b[0m\u001b[1;36m1\u001b[0m\u001b[1;33m]\u001b[0m\u001b[1;33m)\u001b[0m\u001b[1;33m\u001b[0m\u001b[0m\n\u001b[0m",
      "\u001b[1;32m<ipython-input-7-730015fcee54>\u001b[0m in \u001b[0;36mmain\u001b[1;34m(indir, outdir)\u001b[0m\n\u001b[0;32m     55\u001b[0m     \u001b[1;32mfor\u001b[0m \u001b[0mfilename\u001b[0m \u001b[1;32min\u001b[0m \u001b[0mfiles\u001b[0m\u001b[1;33m:\u001b[0m\u001b[1;33m\u001b[0m\u001b[0m\n\u001b[0;32m     56\u001b[0m         \u001b[0mprint\u001b[0m\u001b[1;33m(\u001b[0m\u001b[1;34m\"-- converting {0}/{2}.mp4 to {1}/{2}.mp3 --\"\u001b[0m\u001b[1;33m.\u001b[0m\u001b[0mformat\u001b[0m\u001b[1;33m(\u001b[0m\u001b[0mindir\u001b[0m\u001b[1;33m,\u001b[0m \u001b[0moutdir\u001b[0m\u001b[1;33m,\u001b[0m \u001b[0mfilename\u001b[0m\u001b[1;33m)\u001b[0m\u001b[1;33m)\u001b[0m\u001b[1;33m\u001b[0m\u001b[0m\n\u001b[1;32m---> 57\u001b[1;33m         \u001b[0mcall\u001b[0m\u001b[1;33m(\u001b[0m\u001b[1;33m[\u001b[0m\u001b[1;34m\"mplayer\"\u001b[0m\u001b[1;33m,\u001b[0m \u001b[1;34m\"-novideo\"\u001b[0m\u001b[1;33m,\u001b[0m \u001b[1;34m\"-nocorrect-pts\"\u001b[0m\u001b[1;33m,\u001b[0m \u001b[1;34m\"-ao\"\u001b[0m\u001b[1;33m,\u001b[0m \u001b[1;34m\"pcm:waveheader\"\u001b[0m\u001b[1;33m,\u001b[0m \u001b[0mindir\u001b[0m \u001b[1;33m+\u001b[0m \u001b[1;34m\"\\\\\"\u001b[0m \u001b[1;33m+\u001b[0m \u001b[0mfilename\u001b[0m \u001b[1;33m+\u001b[0m \u001b[1;34m\".mp4\"\u001b[0m\u001b[1;33m]\u001b[0m\u001b[1;33m)\u001b[0m\u001b[1;33m\u001b[0m\u001b[0m\n\u001b[0m\u001b[0;32m     58\u001b[0m         \u001b[0mcall\u001b[0m\u001b[1;33m(\u001b[0m\u001b[1;33m[\u001b[0m\u001b[1;34m\"lame\"\u001b[0m\u001b[1;33m,\u001b[0m \u001b[1;34m\"-v\"\u001b[0m\u001b[1;33m,\u001b[0m \u001b[1;34m\"audiodump.wav\"\u001b[0m\u001b[1;33m,\u001b[0m \u001b[0moutdir\u001b[0m \u001b[1;33m+\u001b[0m \u001b[1;34m\"\\\\\"\u001b[0m \u001b[1;33m+\u001b[0m \u001b[0mfilename\u001b[0m \u001b[1;33m+\u001b[0m \u001b[1;34m\".mp3\"\u001b[0m\u001b[1;33m]\u001b[0m\u001b[1;33m)\u001b[0m\u001b[1;33m\u001b[0m\u001b[0m\n\u001b[0;32m     59\u001b[0m         \u001b[0mos\u001b[0m\u001b[1;33m.\u001b[0m\u001b[0mremove\u001b[0m\u001b[1;33m(\u001b[0m\u001b[1;34m\"audiodump.wav\"\u001b[0m\u001b[1;33m)\u001b[0m\u001b[1;33m\u001b[0m\u001b[0m\n",
      "\u001b[1;32mC:\\ProgramData\\Anaconda3\\lib\\subprocess.py\u001b[0m in \u001b[0;36mcall\u001b[1;34m(timeout, *popenargs, **kwargs)\u001b[0m\n\u001b[0;32m    265\u001b[0m     \u001b[0mretcode\u001b[0m \u001b[1;33m=\u001b[0m \u001b[0mcall\u001b[0m\u001b[1;33m(\u001b[0m\u001b[1;33m[\u001b[0m\u001b[1;34m\"ls\"\u001b[0m\u001b[1;33m,\u001b[0m \u001b[1;34m\"-l\"\u001b[0m\u001b[1;33m]\u001b[0m\u001b[1;33m)\u001b[0m\u001b[1;33m\u001b[0m\u001b[0m\n\u001b[0;32m    266\u001b[0m     \"\"\"\n\u001b[1;32m--> 267\u001b[1;33m     \u001b[1;32mwith\u001b[0m \u001b[0mPopen\u001b[0m\u001b[1;33m(\u001b[0m\u001b[1;33m*\u001b[0m\u001b[0mpopenargs\u001b[0m\u001b[1;33m,\u001b[0m \u001b[1;33m**\u001b[0m\u001b[0mkwargs\u001b[0m\u001b[1;33m)\u001b[0m \u001b[1;32mas\u001b[0m \u001b[0mp\u001b[0m\u001b[1;33m:\u001b[0m\u001b[1;33m\u001b[0m\u001b[0m\n\u001b[0m\u001b[0;32m    268\u001b[0m         \u001b[1;32mtry\u001b[0m\u001b[1;33m:\u001b[0m\u001b[1;33m\u001b[0m\u001b[0m\n\u001b[0;32m    269\u001b[0m             \u001b[1;32mreturn\u001b[0m \u001b[0mp\u001b[0m\u001b[1;33m.\u001b[0m\u001b[0mwait\u001b[0m\u001b[1;33m(\u001b[0m\u001b[0mtimeout\u001b[0m\u001b[1;33m=\u001b[0m\u001b[0mtimeout\u001b[0m\u001b[1;33m)\u001b[0m\u001b[1;33m\u001b[0m\u001b[0m\n",
      "\u001b[1;32mC:\\ProgramData\\Anaconda3\\lib\\subprocess.py\u001b[0m in \u001b[0;36m__init__\u001b[1;34m(self, args, bufsize, executable, stdin, stdout, stderr, preexec_fn, close_fds, shell, cwd, env, universal_newlines, startupinfo, creationflags, restore_signals, start_new_session, pass_fds, encoding, errors)\u001b[0m\n\u001b[0;32m    707\u001b[0m                                 \u001b[0mc2pread\u001b[0m\u001b[1;33m,\u001b[0m \u001b[0mc2pwrite\u001b[0m\u001b[1;33m,\u001b[0m\u001b[1;33m\u001b[0m\u001b[0m\n\u001b[0;32m    708\u001b[0m                                 \u001b[0merrread\u001b[0m\u001b[1;33m,\u001b[0m \u001b[0merrwrite\u001b[0m\u001b[1;33m,\u001b[0m\u001b[1;33m\u001b[0m\u001b[0m\n\u001b[1;32m--> 709\u001b[1;33m                                 restore_signals, start_new_session)\n\u001b[0m\u001b[0;32m    710\u001b[0m         \u001b[1;32mexcept\u001b[0m\u001b[1;33m:\u001b[0m\u001b[1;33m\u001b[0m\u001b[0m\n\u001b[0;32m    711\u001b[0m             \u001b[1;31m# Cleanup if the child failed starting.\u001b[0m\u001b[1;33m\u001b[0m\u001b[1;33m\u001b[0m\u001b[0m\n",
      "\u001b[1;32mC:\\ProgramData\\Anaconda3\\lib\\subprocess.py\u001b[0m in \u001b[0;36m_execute_child\u001b[1;34m(self, args, executable, preexec_fn, close_fds, pass_fds, cwd, env, startupinfo, creationflags, shell, p2cread, p2cwrite, c2pread, c2pwrite, errread, errwrite, unused_restore_signals, unused_start_new_session)\u001b[0m\n\u001b[0;32m    995\u001b[0m                                          \u001b[0menv\u001b[0m\u001b[1;33m,\u001b[0m\u001b[1;33m\u001b[0m\u001b[0m\n\u001b[0;32m    996\u001b[0m                                          \u001b[0mos\u001b[0m\u001b[1;33m.\u001b[0m\u001b[0mfspath\u001b[0m\u001b[1;33m(\u001b[0m\u001b[0mcwd\u001b[0m\u001b[1;33m)\u001b[0m \u001b[1;32mif\u001b[0m \u001b[0mcwd\u001b[0m \u001b[1;32mis\u001b[0m \u001b[1;32mnot\u001b[0m \u001b[1;32mNone\u001b[0m \u001b[1;32melse\u001b[0m \u001b[1;32mNone\u001b[0m\u001b[1;33m,\u001b[0m\u001b[1;33m\u001b[0m\u001b[0m\n\u001b[1;32m--> 997\u001b[1;33m                                          startupinfo)\n\u001b[0m\u001b[0;32m    998\u001b[0m             \u001b[1;32mfinally\u001b[0m\u001b[1;33m:\u001b[0m\u001b[1;33m\u001b[0m\u001b[0m\n\u001b[0;32m    999\u001b[0m                 \u001b[1;31m# Child is launched. Close the parent's copy of those pipe\u001b[0m\u001b[1;33m\u001b[0m\u001b[1;33m\u001b[0m\u001b[0m\n",
      "\u001b[1;31mFileNotFoundError\u001b[0m: [WinError 2] 系統找不到指定的檔案。"
     ]
    }
   ],
   "source": [
    "# MP4 TO MP3 CONVERSION SCRIPT\n",
    "# script to convert mp4 video files to mp3 audio\n",
    "# useful for turning video ripped from sites such as Youtube or TED\n",
    "# into audio files useable with any old mp3 player.\n",
    "#\n",
    "# usage: python mp4tomp3.py [input directory [output directory]]\n",
    "# input directory (optional)  - set directory containing mp4 files to convert (defaults to current folder)\n",
    "# output directory (optional) - set directory to export mp3 files to (defaults to input)\n",
    "#\n",
    "# NOTE: you will need python (2 or 3), mplayer and lame for this script to work\n",
    "# sudo apt-get install lame\n",
    "# sudo apt-get install mplayer\n",
    "# sudo apt-get install python2.7   -- for python 2\n",
    "# sudo apt-get install python3.6   -- for python 3\n",
    "\n",
    "from __future__ import print_function   # for compatibility with both python 2 and 3\n",
    "from subprocess import call             # for calling mplayer and lame\n",
    "from sys import argv                    # allows user to specify input and output directories\n",
    "import os                               # help with file handling\n",
    "\n",
    "def check_file_exists(directory, filename, extension):\n",
    "    path = directory + \"/\" + filename + extension\n",
    "    return os.path.isfile(path)\n",
    "\n",
    "def main(indir, outdir):\n",
    "\n",
    "\n",
    "    try:\n",
    "        # check specified folders exist\n",
    "        if not os.path.exists(indir):\n",
    "            exit(\"Error: Input directory \\'\" + indir + \"\\' does not exist. (try prepending './')\")\n",
    "        if not os.path.exists(outdir):\n",
    "            exit(\"Error: Output directory \\'\" + outdir + \"\\' does not exist.\")\n",
    "        if not os.access(outdir, os.W_OK):\n",
    "            exit(\"Error: Output directory \\'\" + outdir + \"\\' is not writeable.\")\n",
    "\n",
    "        print(\"[{0}/*.mp4] --> [{1}/*.mp3]\".format(indir, outdir))\n",
    "        files = [] # files for exporting\n",
    "            \n",
    "        # get a list of all convertible files in the input directory\n",
    "        filelist = [ f for f in os.listdir(indir) if f.endswith(\".mp4\") ]\n",
    "        for path in filelist:\n",
    "            basename = os.path.basename(path) \n",
    "            filename = os.path.splitext(basename)[0]\n",
    "            files.append(filename)\n",
    "        # remove files that have already been outputted from the list\n",
    "        files[:] = [f for f in files if not check_file_exists(outdir, f, \".mp3\")]\n",
    "    except OSError as e:\n",
    "        exit(e)\n",
    "    \n",
    "    if len(files) == 0:\n",
    "        exit(\"Could not find any files to convert that have not already been converted.\")\n",
    "\n",
    "    # convert all unconverted files\n",
    "    for filename in files:\n",
    "        print(\"-- converting {0}/{2}.mp4 to {1}/{2}.mp3 --\".format(indir, outdir, filename))\n",
    "        call([\"mplayer\", \"-novideo\", \"-nocorrect-pts\", \"-ao\", \"pcm:waveheader\", indir + \"\\\\\" + filename + \".mp4\"])\n",
    "        call([\"lame\", \"-v\", \"audiodump.wav\", outdir + \"\\\\\" + filename + \".mp3\"])\n",
    "        os.remove(\"audiodump.wav\")\n",
    "\n",
    "# set the default directories and try to get input directories\n",
    "args = [\".\", \".\"]\n",
    "for i in range(1, min(len(argv), 3)):\n",
    "    args[i - 1] = argv[i]\n",
    "\n",
    "# if only input directory is set, make the output directory the same\n",
    "if len(argv) == 2:\n",
    "    args[1] = args[0]\n",
    "args[0] = \"D:\\\\Documents\\\\PythonWork\\\\WebCrawler\\\\audio\\\\inn\"\n",
    "args[1] = \"D:\\\\Documents\\\\PythonWork\\\\WebCrawler\\\\audio\\\\out\"\n",
    "main(args[0], args[1])\n"
   ]
  }
 ],
 "metadata": {
  "kernelspec": {
   "display_name": "Python 3",
   "language": "python",
   "name": "python3"
  },
  "language_info": {
   "codemirror_mode": {
    "name": "ipython",
    "version": 3
   },
   "file_extension": ".py",
   "mimetype": "text/x-python",
   "name": "python",
   "nbconvert_exporter": "python",
   "pygments_lexer": "ipython3",
   "version": "3.6.5"
  }
 },
 "nbformat": 4,
 "nbformat_minor": 2
}
