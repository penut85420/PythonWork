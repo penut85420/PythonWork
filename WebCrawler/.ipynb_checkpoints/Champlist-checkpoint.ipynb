{
 "cells": [
  {
   "cell_type": "code",
   "execution_count": 43,
   "metadata": {},
   "outputs": [],
   "source": [
    "from selenium import webdriver\n",
    "from selenium.webdriver.common.by import By\n",
    "from selenium.webdriver.support.ui import WebDriverWait\n",
    "from selenium.webdriver.support import expected_conditions as EC"
   ]
  },
  {
   "cell_type": "code",
   "execution_count": 44,
   "metadata": {},
   "outputs": [],
   "source": [
    "driver = webdriver.Chrome()"
   ]
  },
  {
   "cell_type": "code",
   "execution_count": 45,
   "metadata": {},
   "outputs": [],
   "source": [
    "url = \"https://lol.garena.tw/game/champion\"\n",
    "driver.get(url)"
   ]
  },
  {
   "cell_type": "code",
   "execution_count": 46,
   "metadata": {},
   "outputs": [],
   "source": [
    "wait = WebDriverWait(driver, 10)\n",
    "elem = wait.until(EC.presence_of_all_elements_located((By.CLASS_NAME, \"champlist-item__desc\")))\n",
    "# elem = driver.find_elements_by_class_name(\"champlist-item__desc\")\n",
    "with open(\"champ_list.txt\", 'w', encoding='UTF-8') as fout:\n",
    "    for e in elem:\n",
    "        fout.write(e.text + '\\n')"
   ]
  },
  {
   "cell_type": "code",
   "execution_count": 47,
   "metadata": {},
   "outputs": [],
   "source": [
    "driver.close()"
   ]
  },
  {
   "cell_type": "code",
   "execution_count": 60,
   "metadata": {},
   "outputs": [
    {
     "data": {
      "text/plain": [
       "['厄薩斯', '阿璃', '阿卡莉', '亞歷斯塔', '阿姆姆', '艾妮維亞', '安妮', '艾希', '翱銳龍獸', '阿祈爾']"
      ]
     },
     "execution_count": 60,
     "metadata": {},
     "output_type": "execute_result"
    }
   ],
   "source": [
    "champ_list = open(\"champ_list.txt\", 'r', encoding='UTF-8').read().split()\n",
    "champ_list[:10]"
   ]
  },
  {
   "cell_type": "code",
   "execution_count": 65,
   "metadata": {},
   "outputs": [
    {
     "name": "stdout",
     "output_type": "stream",
     "text": [
      "64296 results done\n"
     ]
    }
   ],
   "source": [
    "term_play = \"用 玩 打\".split()\n",
    "term_of = \"的 得\".split()\n",
    "term_adv = \"真 有夠 非常 很\".split()\n",
    "term_good = \"好 棒 讚 不錯 優秀 傑出 完美 漂亮 卓越 精彩 高超 了不起\".split()\n",
    "term_bad = \"差勁 糟糕 不好 爛 不行 糟 差 不給力\".split()\n",
    "lines = 0\n",
    "with open(\"desc_label.txt\", 'w', encoding='UTF-8') as fout:\n",
    "    for a in champ_list:\n",
    "        for b in term_play:\n",
    "            for c in term_of:\n",
    "                for d in term_adv:\n",
    "                    for e in term_good:\n",
    "                        fout.write(\"%s %s %s %s %s\\t%d\\n\" % (a, b, c, d, e, 1))\n",
    "                        lines += 1\n",
    "                        \n",
    "                    for e in term_bad:\n",
    "                        fout.write(\"%s %s %s %s %s\\t%d\\n\" % (a, b, c, d, e, 0))\n",
    "                        lines += 1\n",
    "print(\"%d results done\" % lines)"
   ]
  }
 ],
 "metadata": {
  "kernelspec": {
   "display_name": "Python 3",
   "language": "python",
   "name": "python3"
  },
  "language_info": {
   "codemirror_mode": {
    "name": "ipython",
    "version": 3
   },
   "file_extension": ".py",
   "mimetype": "text/x-python",
   "name": "python",
   "nbconvert_exporter": "python",
   "pygments_lexer": "ipython3",
   "version": "3.6.5"
  }
 },
 "nbformat": 4,
 "nbformat_minor": 2
}
