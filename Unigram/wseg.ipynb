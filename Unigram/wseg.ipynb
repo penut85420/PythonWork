{
 "cells": [
  {
   "cell_type": "code",
   "execution_count": 21,
   "metadata": {},
   "outputs": [],
   "source": [
    "d, d_maxlen = dict(), 0\n",
    "with open(\"lexicon_sample.txt\", 'r', encoding='utf-8') as fin:\n",
    "    for line in fin:\n",
    "        s = line.strip()\n",
    "        d[s] = True\n",
    "        if len(s) > d_maxlen:\n",
    "            d_maxlen = len(s)"
   ]
  },
  {
   "cell_type": "code",
   "execution_count": 22,
   "metadata": {},
   "outputs": [],
   "source": [
    "def wseg(strInn, strSeg, result):\n",
    "    if len(strInn) == 0:\n",
    "        result.append(strSeg.strip())\n",
    "        return\n",
    "    \n",
    "    maxlen = seglen(strInn)\n",
    "    while maxlen > 0:\n",
    "        seg = strInn[:maxlen]\n",
    "        if d.get(seg) != None:\n",
    "            wseg(strInn[maxlen:], strSeg + \" \" + seg, result)\n",
    "        maxlen -= 1\n",
    "    return result"
   ]
  },
  {
   "cell_type": "code",
   "execution_count": 23,
   "metadata": {},
   "outputs": [],
   "source": [
    "def seglen(s):\n",
    "    i = d_maxlen\n",
    "    if i > len(s): i = len(s)\n",
    "    while d.get(s[:i]) == None and i > 1:\n",
    "        i -= 1\n",
    "    return len(s[:i])"
   ]
  },
  {
   "cell_type": "code",
   "execution_count": 26,
   "metadata": {},
   "outputs": [
    {
     "data": {
      "text/plain": [
       "12"
      ]
     },
     "execution_count": 26,
     "metadata": {},
     "output_type": "execute_result"
    }
   ],
   "source": [
    "fout = open(\"wseg_output.txt\", 'w', encoding='utf-8')\n",
    "fout.write('<?xml version=\"1.0\" encoding=\"utf-8\"?>\\n')\n",
    "fout.write('<TOPICSET>\\n')\n",
    "with open(\"wseginput_sample.txt\", 'r', encoding='utf-8') as fin:\n",
    "    for line in fin:\n",
    "        fout.write('  <TOPIC>\\n')\n",
    "        sen = line.strip()\n",
    "        fout.write('    <SENTENCE>' + sen + \"</SENTENSE>\\n\")\n",
    "        fout.write(\"    <SEGMENTATION>\\n\")\n",
    "        for rr in wseg(sen, \"\", []):\n",
    "            fout.write(\"      <SEGSEQ>\" + rr + \"</SEGSEQ>\\n\")\n",
    "        fout.write(\"    </SEGMENTATION>\\n\")\n",
    "        fout.write('  </TOPIC>\\n')\n",
    "fout.write(\"</TOPICSET>\\n\")"
   ]
  }
 ],
 "metadata": {
  "kernelspec": {
   "display_name": "Python 3",
   "language": "python",
   "name": "python3"
  },
  "language_info": {
   "codemirror_mode": {
    "name": "ipython",
    "version": 3
   },
   "file_extension": ".py",
   "mimetype": "text/x-python",
   "name": "python",
   "nbconvert_exporter": "python",
   "pygments_lexer": "ipython3",
   "version": "3.6.5"
  }
 },
 "nbformat": 4,
 "nbformat_minor": 2
}
