{
 "cells": [
  {
   "cell_type": "code",
   "execution_count": 5,
   "metadata": {},
   "outputs": [
    {
     "ename": "SyntaxError",
     "evalue": "can't assign to function call (<ipython-input-5-d19f90d985af>, line 1)",
     "output_type": "error",
     "traceback": [
      "\u001b[1;36m  File \u001b[1;32m\"<ipython-input-5-d19f90d985af>\"\u001b[1;36m, line \u001b[1;32m1\u001b[0m\n\u001b[1;33m    d = dict(), d_maxlen = 0\u001b[0m\n\u001b[1;37m       ^\u001b[0m\n\u001b[1;31mSyntaxError\u001b[0m\u001b[1;31m:\u001b[0m can't assign to function call\n"
     ]
    }
   ],
   "source": [
    "d, d_maxlen = dict(), 0\n",
    "with open(\"lexicon_sample.txt\", 'r', encoding='utf-8') as fin:\n",
    "    for line in fin:\n",
    "        s = line.strip()\n",
    "        d[s] = True\n",
    "        if len(s) > d_maxlen:\n",
    "            d_maxlen = len(s)"
   ]
  },
  {
   "cell_type": "code",
   "execution_count": 2,
   "metadata": {},
   "outputs": [],
   "source": [
    "def unigram(strInn, strSeg, result):\n",
    "    if len(strInn) == 0:\n",
    "        result.append(strSeg.strip())\n",
    "        return\n",
    "    \n",
    "    maxlen = seglen(strInn)\n",
    "    while maxlen > 0:\n",
    "        seg = strInn[:maxlen]\n",
    "        if d.get(seg) != None:\n",
    "            unigram(strInn[maxlen:], strSeg + \" \" + seg, result)\n",
    "        maxlen -= 1\n",
    "    return result"
   ]
  },
  {
   "cell_type": "code",
   "execution_count": 3,
   "metadata": {},
   "outputs": [],
   "source": [
    "def seglen(s):\n",
    "    i = d_maxlen\n",
    "    if i > len(s): i = len(s)\n",
    "    while d.get(s[:i]) == None and i > 1:\n",
    "        i -= 1\n",
    "    return len(s[:i])"
   ]
  },
  {
   "cell_type": "code",
   "execution_count": 4,
   "metadata": {},
   "outputs": [
    {
     "data": {
      "text/plain": [
       "12"
      ]
     },
     "execution_count": 4,
     "metadata": {},
     "output_type": "execute_result"
    }
   ],
   "source": [
    "fout = open(\"unigram_output.txt\", 'w', encoding='utf-8')\n",
    "fout.write('<?xml version=\"1.0\" encoding=\"utf-8\"?>\\n')\n",
    "fout.write('<TOPICSET>\\n')\n",
    "with open(\"wseginput_sample.txt\", 'r', encoding='utf-8') as fin:\n",
    "    for line in fin:\n",
    "        fout.write('  <TOPIC>\\n')\n",
    "        sen = line.strip()\n",
    "        fout.write('    <SENTENCE>' + sen + \"</SENTENSE>\\n\")\n",
    "        fout.write(\"    <SEGMENTATION>\\n\")\n",
    "        for rr in unigram(sen, \"\", []):\n",
    "            fout.write(\"      <SEGSEQ>\" + rr + \"</SEGSEQ>\\n\")\n",
    "        fout.write(\"    </SEGMENTATION>\\n\")\n",
    "        fout.write('  </TOPIC>\\n')\n",
    "fout.write(\"</TOPICSET>\\n\")"
   ]
  }
 ],
 "metadata": {
  "kernelspec": {
   "display_name": "Python 3",
   "language": "python",
   "name": "python3"
  },
  "language_info": {
   "codemirror_mode": {
    "name": "ipython",
    "version": 3
   },
   "file_extension": ".py",
   "mimetype": "text/x-python",
   "name": "python",
   "nbconvert_exporter": "python",
   "pygments_lexer": "ipython3",
   "version": "3.6.5"
  }
 },
 "nbformat": 4,
 "nbformat_minor": 2
}
